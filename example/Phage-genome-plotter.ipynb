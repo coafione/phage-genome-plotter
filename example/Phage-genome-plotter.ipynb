{
  "nbformat": 4,
  "nbformat_minor": 0,
  "metadata": {
    "colab": {
      "provenance": []
    },
    "kernelspec": {
      "name": "python3",
      "display_name": "Python 3"
    },
    "language_info": {
      "name": "python"
    }
  },
  "cells": [
    {
      "cell_type": "code",
      "execution_count": null,
      "metadata": {
        "id": "OBAPIEJeOSj4"
      },
      "outputs": [],
      "source": [
        "!pip install biopython matplotlib\n",
        "!apt-get install ncbi-blast+ -y"
      ]
    },
    {
      "cell_type": "code",
      "source": [
        "from google.colab import files\n",
        "uploaded = files.upload()\n",
        "\n",
        "# Make sure users upload all necessary .fasta, .fa, .fna, and .gbk files"
      ],
      "metadata": {
        "id": "WyC5I3ybOZSK"
      },
      "execution_count": null,
      "outputs": []
    },
    {
      "cell_type": "markdown",
      "source": [
        "# Create BLAST Database and Run **BLASTn**"
      ],
      "metadata": {
        "id": "xpRbe3CIOyNY"
      }
    },
    {
      "cell_type": "code",
      "source": [
        "import os\n",
        "import subprocess\n",
        "from pathlib import Path\n",
        "\n",
        "# Automatically find all .fasta, .fa, .fna\n",
        "fasta_files = [f for f in os.listdir() if f.endswith(('.fasta', '.fa', '.fna'))]\n",
        "phage_ids = [Path(f).stem for f in fasta_files]\n",
        "\n",
        "os.makedirs('blastdb', exist_ok=True)\n",
        "os.makedirs('blast_results', exist_ok=True)\n",
        "\n",
        "# Make databases\n",
        "for fasta in fasta_files:\n",
        "    db_name = f\"blastdb/{Path(fasta).stem}\"\n",
        "    subprocess.run([\"makeblastdb\", \"-in\", fasta, \"-dbtype\", \"nucl\", \"-out\", db_name])\n",
        "\n",
        "# Run BLASTn pairwise\n",
        "from itertools import combinations\n",
        "\n",
        "for g1, g2 in combinations(phage_ids, 2):\n",
        "    out_file = f\"blast_results/{g1}_vs_{g2}.txt\"\n",
        "    if not os.path.exists(out_file):\n",
        "        subprocess.run([\n",
        "            \"blastn\", \"-query\", f\"{g1}.fasta\", \"-db\", f\"blastdb/{g2}\",\n",
        "            \"-outfmt\", \"6\", \"-evalue\", \"1e-5\", \"-out\", out_file\n",
        "        ])\n"
      ],
      "metadata": {
        "id": "np1rZ6NDObth"
      },
      "execution_count": null,
      "outputs": []
    },
    {
      "cell_type": "markdown",
      "source": [
        "# **Parse GenBank + BLAST**"
      ],
      "metadata": {
        "id": "vw5LhttpOm34"
      }
    },
    {
      "cell_type": "code",
      "source": [
        "import json\n",
        "from Bio import SeqIO\n",
        "\n",
        "# Parse GBK files\n",
        "data = {}\n",
        "for phage in phage_ids:\n",
        "    gbk_file = f\"{phage}.gbk\"\n",
        "    if not os.path.exists(gbk_file):\n",
        "        continue\n",
        "\n",
        "    record = SeqIO.read(gbk_file, \"genbank\")\n",
        "    cds_list = []\n",
        "    for feature in record.features:\n",
        "        if feature.type == \"CDS\":\n",
        "            start = int(feature.location.start)\n",
        "            end = int(feature.location.end)\n",
        "            strand = feature.location.strand\n",
        "            gene = feature.qualifiers.get(\"gene\", [\"\"])[0]\n",
        "            product = feature.qualifiers.get(\"product\", [\"\"])[0]\n",
        "            locus = feature.qualifiers.get(\"locus_tag\", [\"\"])[0]\n",
        "            label = gene or product or locus\n",
        "            cds_list.append((start, end, strand, label))\n",
        "\n",
        "    data[phage] = {\n",
        "        \"length\": len(record.seq),\n",
        "        \"cds\": cds_list,\n",
        "        \"links\": []\n",
        "    }\n",
        "\n",
        "# Parse BLAST results\n",
        "for file in os.listdir('blast_results'):\n",
        "    if not file.endswith(\".txt\"):\n",
        "        continue\n",
        "    g1, g2 = file.replace(\".txt\", \"\").split(\"_vs_\")\n",
        "    if g1 not in data or g2 not in data:\n",
        "        continue\n",
        "\n",
        "    with open(f\"blast_results/{file}\") as f:\n",
        "        for line in f:\n",
        "            if line.startswith(\"#\"):\n",
        "                continue\n",
        "            cols = line.strip().split(\"\\t\")\n",
        "            if len(cols) < 10:\n",
        "                continue\n",
        "            identity = float(cols[2])\n",
        "            align_len = abs(int(cols[7]) - int(cols[6]))\n",
        "            if identity < 80 or align_len < 100:\n",
        "                continue\n",
        "\n",
        "            qstart, qend = sorted([int(cols[6]), int(cols[7])])\n",
        "            sstart, send = sorted([int(cols[8]), int(cols[9])])\n",
        "            data[g1][\"links\"].append({\n",
        "                \"target\": g2,\n",
        "                \"qstart\": qstart,\n",
        "                \"qend\": qend,\n",
        "                \"sstart\": sstart,\n",
        "                \"send\": send,\n",
        "                \"identity\": identity\n",
        "            })\n",
        "\n",
        "with open(\"parsed_data.json\", \"w\") as f:\n",
        "    json.dump(data, f, indent=2)\n"
      ],
      "metadata": {
        "id": "Kda_cu5wO1VJ"
      },
      "execution_count": null,
      "outputs": []
    },
    {
      "cell_type": "markdown",
      "source": [
        "# **Plot the Comparative Genomics**"
      ],
      "metadata": {
        "id": "zUW4AQopPOgK"
      }
    },
    {
      "cell_type": "code",
      "source": [
        "import matplotlib.pyplot as plt\n",
        "import matplotlib.patches as patches\n",
        "import matplotlib.cm as cm\n",
        "from matplotlib.colors import Normalize\n",
        "from matplotlib.colorbar import ColorbarBase\n",
        "from matplotlib.lines import Line2D\n",
        "\n",
        "# Load parsed data\n",
        "with open(\"parsed_data.json\") as f:\n",
        "    data = json.load(f)\n",
        "\n",
        "phage_order = list(data.keys())\n",
        "\n",
        "def identity_to_color(identity, identity_min=80):\n",
        "    norm = Normalize(vmin=identity_min, vmax=100)\n",
        "    return cm.viridis(norm(identity))\n",
        "\n",
        "fig, ax = plt.subplots(figsize=(18, 14))\n",
        "ax.set_xlim(0, max(d[\"length\"] for d in data.values()) + 1000)\n",
        "ax.set_ylim(-5 * len(phage_order), 2)\n",
        "ax.tick_params(axis='y', which='both', left=False, labelleft=False)\n",
        "ax.set_xlabel(\"Genomic position (bp)\", fontsize=12)\n",
        "\n",
        "phage_pos = {phage: -i * 5 for i, phage in enumerate(phage_order)}\n",
        "\n",
        "# Draw genome bars\n",
        "for phage in phage_order:\n",
        "    y = phage_pos[phage]\n",
        "    length = data[phage][\"length\"]\n",
        "    ax.plot([0, length], [y, y], lw=6, color=\"gray\")\n",
        "    ax.text(length + 500, y, phage, va='center', ha='left', fontsize=9)\n",
        "\n",
        "    for start, end, strand, _ in data[phage][\"cds\"]:\n",
        "        if end - start < 50:\n",
        "            continue\n",
        "        color = \"green\" if strand == 1 else \"orange\"\n",
        "        box_y = y + 1.0\n",
        "        rect = patches.Rectangle(\n",
        "            (start, box_y - 0.8), end - start, 1.6,\n",
        "            linewidth=0.5, edgecolor='black', facecolor=color, alpha=0.85\n",
        "        )\n",
        "        ax.add_patch(rect)\n",
        "\n",
        "# Draw links\n",
        "for phage in phage_order:\n",
        "    src_y = phage_pos[phage]\n",
        "    for link in data[phage][\"links\"]:\n",
        "        target = link[\"target\"]\n",
        "        tgt_y = phage_pos[target]\n",
        "        if abs(phage_order.index(phage) - phage_order.index(target)) != 1:\n",
        "            continue\n",
        "        if phage_order.index(phage) > phage_order.index(target):\n",
        "            continue\n",
        "\n",
        "        poly = patches.Polygon([\n",
        "            [link[\"qstart\"], src_y - 0.4],\n",
        "            [link[\"qend\"], src_y - 0.4],\n",
        "            [link[\"send\"], tgt_y + 0.4],\n",
        "            [link[\"sstart\"], tgt_y + 0.4],\n",
        "        ], closed=True, facecolor=identity_to_color(link[\"identity\"]), alpha=0.5)\n",
        "        ax.add_patch(poly)\n",
        "\n",
        "# Legends\n",
        "cax = fig.add_axes([0.93, 0.35, 0.015, 0.4])\n",
        "norm = Normalize(vmin=80, vmax=100)\n",
        "cb = ColorbarBase(cax, cmap=cm.viridis, norm=norm, orientation='vertical')\n",
        "cb.set_label('BLAST Identity (%)', fontsize=10)\n",
        "\n",
        "legend_elements = [\n",
        "    Line2D([0], [0], color='green', lw=6, label='+ Strand CDS'),\n",
        "    Line2D([0], [0], color='orange', lw=6, label='– Strand CDS')\n",
        "]\n",
        "fig.legend(handles=legend_elements, loc='lower center', bbox_to_anchor=(0.5, 0.015),\n",
        "           ncol=2, fontsize=9, frameon=True)\n",
        "\n",
        "fig.suptitle(\"Comparative Genomics\", fontsize=16, y=0.97)\n",
        "plt.tight_layout(rect=[0, 0.05, 0.9, 0.95])\n",
        "plt.savefig(\"phage_plot.svg\", format='svg', bbox_inches='tight')\n",
        "plt.show()\n"
      ],
      "metadata": {
        "id": "uMgmDRorPSPB"
      },
      "execution_count": null,
      "outputs": []
    },
    {
      "cell_type": "markdown",
      "source": [
        "# **Final Step: Download the figure**"
      ],
      "metadata": {
        "id": "KFnG7FiYPVgw"
      }
    },
    {
      "cell_type": "code",
      "source": [
        "from google.colab import files\n",
        "files.download(\"phage_plot.svg\")"
      ],
      "metadata": {
        "id": "3-JgwWGAPXeQ"
      },
      "execution_count": null,
      "outputs": []
    }
  ]
}